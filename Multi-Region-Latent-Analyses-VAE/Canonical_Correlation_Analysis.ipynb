{
 "cells": [
  {
   "cell_type": "code",
   "execution_count": 23,
   "metadata": {},
   "outputs": [
    {
     "name": "stdout",
     "output_type": "stream",
     "text": [
      "The autoreload extension is already loaded. To reload it, use:\n",
      "  %reload_ext autoreload\n"
     ]
    }
   ],
   "source": [
    "%load_ext autoreload\n",
    "%autoreload 2\n",
    "# %matplotlib qt\n",
    "# %matplotlib qt"
   ]
  },
  {
   "cell_type": "code",
   "execution_count": 24,
   "metadata": {},
   "outputs": [],
   "source": [
    "from sklearn.linear_model import Ridge, Lasso\n",
    "from sklearn.model_selection import train_test_split\n",
    "\n",
    "import torch\n",
    "import torch.nn as nn\n",
    "import torch.optim as optim\n",
    "from torch.utils.data import Dataset, DataLoader\n",
    "import numpy as np\n",
    "import logging"
   ]
  },
  {
   "cell_type": "code",
   "execution_count": 25,
   "metadata": {},
   "outputs": [],
   "source": [
    "def zscore_3d(arr):\n",
    "    # 计算沿第三维（axis=2）的均值和标准差\n",
    "    means = np.mean(arr, axis=(0, 1), keepdims=True)\n",
    "    stds = np.std(arr, axis=(0, 1), keepdims=True)\n",
    "    # print(means.shape)\n",
    "    # print(stds.shape)\n",
    "    # 执行Z-score标准化\n",
    "    zscored = (arr - means) / stds\n",
    "    \n",
    "    return zscored"
   ]
  },
  {
   "cell_type": "code",
   "execution_count": 26,
   "metadata": {},
   "outputs": [
    {
     "name": "stdout",
     "output_type": "stream",
     "text": [
      "ACAd1_L: 8 dims\n",
      "ACAd1_R: 7 dims\n",
      "AUD_L: 4 dims\n",
      "AUD_R: 7 dims\n",
      "FRP1_L: 6 dims\n",
      "FRP1_R: 12 dims\n",
      "MOB_L: 14 dims\n",
      "MOB_R: 9 dims\n",
      "MOp_L: 7 dims\n",
      "MOp_R: 6 dims\n",
      "MOs_L: 14 dims\n",
      "MOs_R: 14 dims\n",
      "PL1_L: 7 dims\n",
      "PL1_R: 7 dims\n",
      "RSP_L: 15 dims\n",
      "RSP_R: 11 dims\n",
      "SSp_L: 23 dims\n",
      "SSp_R: 22 dims\n",
      "SSs1_L: 7 dims\n",
      "SSs1_R: 7 dims\n",
      "TEa1_L: 3 dims\n",
      "TEa1_R: 3 dims\n",
      "VIS_L: 24 dims\n",
      "VIS_R: 21 dims\n"
     ]
    }
   ],
   "source": [
    "import h5py\n",
    "import numpy as np\n",
    "import matplotlib.pyplot as plt\n",
    "import os\n",
    "\n",
    "\n",
    "hdf5_file = '../datasets/mSM36/05-Dec-2017-wpaw/data.hdf5'\n",
    "numpy_dir = os.path.join('..', 'numpy_arrays')\n",
    "\n",
    "\n",
    "region_dict = {}\n",
    "with h5py.File(hdf5_file, 'r', libver='latest', swmr=True) as file:\n",
    "    # collect region index names\n",
    "    regions = list(file['regions']['indxs_consolidate_lr'].keys())\n",
    "    # print out\n",
    "    for region in regions:\n",
    "        region_idxs = file['regions']['indxs_consolidate_lr'][region][()]\n",
    "        print('%s: %i dims' % (region, region_idxs.shape[1]))\n",
    "        region_dict[region] = region_idxs\n"
   ]
  },
  {
   "cell_type": "code",
   "execution_count": 27,
   "metadata": {},
   "outputs": [
    {
     "name": "stdout",
     "output_type": "stream",
     "text": [
      "VIS_R neural_region_array shape: (549, 189, 21)\n",
      "VIS_L neural_region_array shape: (549, 189, 24)\n",
      "label_whole_array shape: (549, 189, 6)\n"
     ]
    }
   ],
   "source": [
    "region_name_1, region_name_2 = \"VIS_R\", \"VIS_L\"\n",
    "\n",
    "# neural_file = '../datasets/WFCI/C_' + region_name + '_neural_array.npy'\n",
    "neural_file = '../datasets/WFCI/neural_whole_array-05-Dec.npy'\n",
    "latents_label_file = '../datasets/WFCI/behavioral_labels_psvae_7.npy'\n",
    "# gtruth_label_file = '../datasets/psvae-mSM36/05-Dec-2017-wpaw/behavioral_gtruth_labels_5.npy'\n",
    "\n",
    "behavior_indices = [0,1,3,4,5,6]\n",
    "seed = 2027\n",
    "neural_region_array_1 = np.load(neural_file)[:,:,region_dict[region_name_1][0]]\n",
    "neural_region_array_2 = np.load(neural_file)[:,:,region_dict[region_name_2][0]]\n",
    "label_whole_array = np.load(latents_label_file)[:,:,behavior_indices]\n",
    "\n",
    "print(region_name_1 + \" neural_region_array shape:\", neural_region_array_1.shape)\n",
    "print(region_name_2 + \" neural_region_array shape:\", neural_region_array_2.shape)\n",
    "print(\"label_whole_array shape:\", label_whole_array.shape)\n",
    "# Z-Scored\n",
    "\n",
    "neural_whole_array_1 = zscore_3d(neural_region_array_1)\n",
    "neural_whole_array_2 = zscore_3d(neural_region_array_2)\n",
    "label_whole_array = zscore_3d(label_whole_array)\n",
    "# neural_whole_array = np.concatenate((neural_whole_array,label_whole_array), axis=-1)\n",
    "\n",
    "# neural_whole_array.shape, label_whole_array.shape"
   ]
  },
  {
   "cell_type": "code",
   "execution_count": 28,
   "metadata": {},
   "outputs": [],
   "source": [
    "trial_number, trial_length, neuron_number_1 = neural_whole_array_1.shape\n",
    "trial_number, trial_length, neuron_number_2 = neural_whole_array_2.shape\n",
    "trial_number, trial_length, label_number = label_whole_array.shape\n",
    "\n",
    "neural_trial_to2d_array_1 = neural_whole_array_1.reshape(trial_number * trial_length, neuron_number_1)\n",
    "neural_trial_to2d_array_2 = neural_whole_array_2.reshape(trial_number * trial_length, neuron_number_2)\n",
    "label_trial_to2d_array = label_whole_array.reshape(trial_number * trial_length, label_number)\n",
    "# neural_trial_cluster_array.shape, label_trial_cluster_array.shape"
   ]
  },
  {
   "cell_type": "code",
   "execution_count": 29,
   "metadata": {},
   "outputs": [
    {
     "data": {
      "text/plain": [
       "(10, 21)"
      ]
     },
     "execution_count": 29,
     "metadata": {},
     "output_type": "execute_result"
    }
   ],
   "source": [
    "neural_whole_array_1[2,:10].shape"
   ]
  },
  {
   "cell_type": "code",
   "execution_count": 83,
   "metadata": {},
   "outputs": [],
   "source": [
    "from sklearn.cross_decomposition import CCA\n",
    "\n",
    "\n",
    "cca_dims = 2\n",
    "cca = CCA(n_components=cca_dims)\n",
    "\n",
    "neural_trial_to2d_cca_1, neural_trial_to2d_cca_2 = cca.fit_transform(neural_whole_array_1[18,10:30,:75], neural_whole_array_2[18,10:30,:75])\n"
   ]
  },
  {
   "cell_type": "code",
   "execution_count": 84,
   "metadata": {},
   "outputs": [
    {
     "data": {
      "text/plain": [
       "(20, 2)"
      ]
     },
     "execution_count": 84,
     "metadata": {},
     "output_type": "execute_result"
    }
   ],
   "source": [
    "neural_trial_to2d_cca_1.shape"
   ]
  },
  {
   "cell_type": "code",
   "execution_count": 85,
   "metadata": {},
   "outputs": [
    {
     "data": {
      "text/plain": [
       "(20, 2)"
      ]
     },
     "execution_count": 85,
     "metadata": {},
     "output_type": "execute_result"
    }
   ],
   "source": [
    "neural_trial_to2d_cca_2.shape"
   ]
  },
  {
   "cell_type": "code",
   "execution_count": 87,
   "metadata": {},
   "outputs": [
    {
     "data": {
      "text/plain": [
       "<matplotlib.collections.PathCollection at 0x3528aae80>"
      ]
     },
     "execution_count": 87,
     "metadata": {},
     "output_type": "execute_result"
    },
    {
     "data": {
      "image/png": "[encoded data removed]",
      "text/plain": [
       "<Figure size 640x480 with 1 Axes>"
      ]
     },
     "metadata": {},
     "output_type": "display_data"
    }
   ],
   "source": [
    "plt.plot(neural_trial_to2d_cca_1[:,0], neural_trial_to2d_cca_1[:,1])\n",
    "plt.plot(neural_trial_to2d_cca_2[:,0], neural_trial_to2d_cca_2[:,1])\n",
    "\n",
    "plt.scatter(neural_trial_to2d_cca_1[0,0], neural_trial_to2d_cca_1[0,1])\n",
    "plt.scatter(neural_trial_to2d_cca_2[0,0], neural_trial_to2d_cca_2[0,1])\n",
    "\n",
    "plt.scatter(neural_trial_to2d_cca_1[-1,0], neural_trial_to2d_cca_1[-1,1], marker='>')\n",
    "plt.scatter(neural_trial_to2d_cca_2[-1,0], neural_trial_to2d_cca_2[-1,1], marker='>')"
   ]
  },
  {
   "cell_type": "code",
   "execution_count": null,
   "metadata": {},
   "outputs": [],
   "source": []
  }
 ],
 "metadata": {
  "kernelspec": {
   "display_name": "Python 3",
   "language": "python",
   "name": "python3"
  },
  "language_info": {
   "codemirror_mode": {
    "name": "ipython",
    "version": 3
   },
   "file_extension": ".py",
   "mimetype": "text/x-python",
   "name": "python",
   "nbconvert_exporter": "python",
   "pygments_lexer": "ipython3",
   "version": "3.9.6"
  }
 },
 "nbformat": 4,
 "nbformat_minor": 2
}
